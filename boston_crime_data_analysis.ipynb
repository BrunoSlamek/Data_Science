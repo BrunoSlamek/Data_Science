{
  "nbformat": 4,
  "nbformat_minor": 0,
  "metadata": {
    "colab": {
      "name": "boston_crime_data_analysis.ipynb",
      "provenance": [],
      "toc_visible": true,
      "authorship_tag": "ABX9TyO+a2zE/AeUli6SH9ORgiP4",
      "include_colab_link": true
    },
    "kernelspec": {
      "name": "python3",
      "display_name": "Python 3"
    }
  },
  "cells": [
    {
      "cell_type": "markdown",
      "metadata": {
        "id": "view-in-github",
        "colab_type": "text"
      },
      "source": [
        "<a href=\"https://colab.research.google.com/github/BrunoSlamek/Data_Science/blob/master/boston_crime_data_analysis.ipynb\" target=\"_parent\"><img src=\"https://colab.research.google.com/assets/colab-badge.svg\" alt=\"Open In Colab\"/></a>"
      ]
    },
    {
      "cell_type": "markdown",
      "metadata": {
        "id": "I9oG3zqWgXp-"
      },
      "source": [
        "Analysis of crimes in Boston, between 2015 to 2018"
      ]
    },
    {
      "cell_type": "markdown",
      "metadata": {
        "id": "4QJLJdCdTmdK"
      },
      "source": [
        "Crime incident reports are provided by Boston Police Department (BPD) to document the initial details surrounding an incident to which BPD officers respond. This is a dataset containing records from the new crime incident report system, which includes a reduced set of fields focused on capturing the type of incident as well as when and where it occurred. The Records begin in June 14, 2015 and continue to September 3, 2018.\n",
        "\n",
        "\n",
        "---\n",
        "\n",
        "In this analysis, we will check the crimes by the districts, the amount per week and months, and we will also check the most popular crime.\n",
        "\n"
      ]
    },
    {
      "cell_type": "code",
      "metadata": {
        "id": "vceyXWtoVFqm"
      },
      "source": [
        "# Libraries\n",
        "import pandas as pd\n",
        "import numpy as np\n",
        "import matplotlib.pyplot as plt\n",
        "import seaborn as sns\n",
        "import folium\n",
        "\n",
        "from collections import Counter\n",
        "from folium.plugins import HeatMap\n",
        "\n",
        "plt.style.use(\"fivethirtyeight\")"
      ],
      "execution_count": 31,
      "outputs": []
    },
    {
      "cell_type": "code",
      "metadata": {
        "id": "1tEJDwRyhKed",
        "outputId": "599bb899-d2de-4078-ace6-ca5b427a78c5",
        "colab": {
          "base_uri": "https://localhost:8080/",
          "height": 313
        }
      },
      "source": [
        "# Reading the file and showing the first lines\n",
        "df = pd.read_csv('/content/crime.csv', encoding='latin-1')\n",
        "df.head()"
      ],
      "execution_count": 32,
      "outputs": [
        {
          "output_type": "execute_result",
          "data": {
            "text/html": [
              "<div>\n",
              "<style scoped>\n",
              "    .dataframe tbody tr th:only-of-type {\n",
              "        vertical-align: middle;\n",
              "    }\n",
              "\n",
              "    .dataframe tbody tr th {\n",
              "        vertical-align: top;\n",
              "    }\n",
              "\n",
              "    .dataframe thead th {\n",
              "        text-align: right;\n",
              "    }\n",
              "</style>\n",
              "<table border=\"1\" class=\"dataframe\">\n",
              "  <thead>\n",
              "    <tr style=\"text-align: right;\">\n",
              "      <th></th>\n",
              "      <th>INCIDENT_NUMBER</th>\n",
              "      <th>OFFENSE_CODE</th>\n",
              "      <th>OFFENSE_CODE_GROUP</th>\n",
              "      <th>OFFENSE_DESCRIPTION</th>\n",
              "      <th>DISTRICT</th>\n",
              "      <th>REPORTING_AREA</th>\n",
              "      <th>SHOOTING</th>\n",
              "      <th>OCCURRED_ON_DATE</th>\n",
              "      <th>YEAR</th>\n",
              "      <th>MONTH</th>\n",
              "      <th>DAY_OF_WEEK</th>\n",
              "      <th>HOUR</th>\n",
              "      <th>UCR_PART</th>\n",
              "      <th>STREET</th>\n",
              "      <th>Lat</th>\n",
              "      <th>Long</th>\n",
              "      <th>Location</th>\n",
              "    </tr>\n",
              "  </thead>\n",
              "  <tbody>\n",
              "    <tr>\n",
              "      <th>0</th>\n",
              "      <td>I182070945</td>\n",
              "      <td>619</td>\n",
              "      <td>Larceny</td>\n",
              "      <td>LARCENY ALL OTHERS</td>\n",
              "      <td>D14</td>\n",
              "      <td>808</td>\n",
              "      <td>NaN</td>\n",
              "      <td>2018-09-02 13:00:00</td>\n",
              "      <td>2018</td>\n",
              "      <td>9</td>\n",
              "      <td>Sunday</td>\n",
              "      <td>13</td>\n",
              "      <td>Part One</td>\n",
              "      <td>LINCOLN ST</td>\n",
              "      <td>42.357791</td>\n",
              "      <td>-71.139371</td>\n",
              "      <td>(42.35779134, -71.13937053)</td>\n",
              "    </tr>\n",
              "    <tr>\n",
              "      <th>1</th>\n",
              "      <td>I182070943</td>\n",
              "      <td>1402</td>\n",
              "      <td>Vandalism</td>\n",
              "      <td>VANDALISM</td>\n",
              "      <td>C11</td>\n",
              "      <td>347</td>\n",
              "      <td>NaN</td>\n",
              "      <td>2018-08-21 00:00:00</td>\n",
              "      <td>2018</td>\n",
              "      <td>8</td>\n",
              "      <td>Tuesday</td>\n",
              "      <td>0</td>\n",
              "      <td>Part Two</td>\n",
              "      <td>HECLA ST</td>\n",
              "      <td>42.306821</td>\n",
              "      <td>-71.060300</td>\n",
              "      <td>(42.30682138, -71.06030035)</td>\n",
              "    </tr>\n",
              "    <tr>\n",
              "      <th>2</th>\n",
              "      <td>I182070941</td>\n",
              "      <td>3410</td>\n",
              "      <td>Towed</td>\n",
              "      <td>TOWED MOTOR VEHICLE</td>\n",
              "      <td>D4</td>\n",
              "      <td>151</td>\n",
              "      <td>NaN</td>\n",
              "      <td>2018-09-03 19:27:00</td>\n",
              "      <td>2018</td>\n",
              "      <td>9</td>\n",
              "      <td>Monday</td>\n",
              "      <td>19</td>\n",
              "      <td>Part Three</td>\n",
              "      <td>CAZENOVE ST</td>\n",
              "      <td>42.346589</td>\n",
              "      <td>-71.072429</td>\n",
              "      <td>(42.34658879, -71.07242943)</td>\n",
              "    </tr>\n",
              "    <tr>\n",
              "      <th>3</th>\n",
              "      <td>I182070940</td>\n",
              "      <td>3114</td>\n",
              "      <td>Investigate Property</td>\n",
              "      <td>INVESTIGATE PROPERTY</td>\n",
              "      <td>D4</td>\n",
              "      <td>272</td>\n",
              "      <td>NaN</td>\n",
              "      <td>2018-09-03 21:16:00</td>\n",
              "      <td>2018</td>\n",
              "      <td>9</td>\n",
              "      <td>Monday</td>\n",
              "      <td>21</td>\n",
              "      <td>Part Three</td>\n",
              "      <td>NEWCOMB ST</td>\n",
              "      <td>42.334182</td>\n",
              "      <td>-71.078664</td>\n",
              "      <td>(42.33418175, -71.07866441)</td>\n",
              "    </tr>\n",
              "    <tr>\n",
              "      <th>4</th>\n",
              "      <td>I182070938</td>\n",
              "      <td>3114</td>\n",
              "      <td>Investigate Property</td>\n",
              "      <td>INVESTIGATE PROPERTY</td>\n",
              "      <td>B3</td>\n",
              "      <td>421</td>\n",
              "      <td>NaN</td>\n",
              "      <td>2018-09-03 21:05:00</td>\n",
              "      <td>2018</td>\n",
              "      <td>9</td>\n",
              "      <td>Monday</td>\n",
              "      <td>21</td>\n",
              "      <td>Part Three</td>\n",
              "      <td>DELHI ST</td>\n",
              "      <td>42.275365</td>\n",
              "      <td>-71.090361</td>\n",
              "      <td>(42.27536542, -71.09036101)</td>\n",
              "    </tr>\n",
              "  </tbody>\n",
              "</table>\n",
              "</div>"
            ],
            "text/plain": [
              "  INCIDENT_NUMBER  OFFENSE_CODE  ...       Long                     Location\n",
              "0      I182070945           619  ... -71.139371  (42.35779134, -71.13937053)\n",
              "1      I182070943          1402  ... -71.060300  (42.30682138, -71.06030035)\n",
              "2      I182070941          3410  ... -71.072429  (42.34658879, -71.07242943)\n",
              "3      I182070940          3114  ... -71.078664  (42.33418175, -71.07866441)\n",
              "4      I182070938          3114  ... -71.090361  (42.27536542, -71.09036101)\n",
              "\n",
              "[5 rows x 17 columns]"
            ]
          },
          "metadata": {
            "tags": []
          },
          "execution_count": 32
        }
      ]
    },
    {
      "cell_type": "code",
      "metadata": {
        "id": "cbEbzkFs_RiB",
        "outputId": "c27517a2-06dc-4c7b-95db-348cfebfadaa",
        "colab": {
          "base_uri": "https://localhost:8080/",
          "height": 293
        }
      },
      "source": [
        "# Changing variable names\n",
        "df.rename(columns={'INCIDENT_NUMBER': 'NUMBER',\n",
        "                   'OFFENSE_CODE': 'CODE',\n",
        "                   'REPORTING_AREA': 'AREA',\n",
        "                   'OFFENSE_CODE_GROUP': 'GROUP',\n",
        "                   'OFFENSE_DESCRIPTION': 'DESCRIPTION',\n",
        "                   'OCCURRED_ON_DATE': 'DATE',\n",
        "                   'DAY_OF_WEEK': 'WEEK'}, inplace = True)\n",
        "df.head(5)"
      ],
      "execution_count": 33,
      "outputs": [
        {
          "output_type": "execute_result",
          "data": {
            "text/html": [
              "<div>\n",
              "<style scoped>\n",
              "    .dataframe tbody tr th:only-of-type {\n",
              "        vertical-align: middle;\n",
              "    }\n",
              "\n",
              "    .dataframe tbody tr th {\n",
              "        vertical-align: top;\n",
              "    }\n",
              "\n",
              "    .dataframe thead th {\n",
              "        text-align: right;\n",
              "    }\n",
              "</style>\n",
              "<table border=\"1\" class=\"dataframe\">\n",
              "  <thead>\n",
              "    <tr style=\"text-align: right;\">\n",
              "      <th></th>\n",
              "      <th>NUMBER</th>\n",
              "      <th>CODE</th>\n",
              "      <th>GROUP</th>\n",
              "      <th>DESCRIPTION</th>\n",
              "      <th>DISTRICT</th>\n",
              "      <th>AREA</th>\n",
              "      <th>SHOOTING</th>\n",
              "      <th>DATE</th>\n",
              "      <th>YEAR</th>\n",
              "      <th>MONTH</th>\n",
              "      <th>WEEK</th>\n",
              "      <th>HOUR</th>\n",
              "      <th>UCR_PART</th>\n",
              "      <th>STREET</th>\n",
              "      <th>Lat</th>\n",
              "      <th>Long</th>\n",
              "      <th>Location</th>\n",
              "    </tr>\n",
              "  </thead>\n",
              "  <tbody>\n",
              "    <tr>\n",
              "      <th>0</th>\n",
              "      <td>I182070945</td>\n",
              "      <td>619</td>\n",
              "      <td>Larceny</td>\n",
              "      <td>LARCENY ALL OTHERS</td>\n",
              "      <td>D14</td>\n",
              "      <td>808</td>\n",
              "      <td>NaN</td>\n",
              "      <td>2018-09-02 13:00:00</td>\n",
              "      <td>2018</td>\n",
              "      <td>9</td>\n",
              "      <td>Sunday</td>\n",
              "      <td>13</td>\n",
              "      <td>Part One</td>\n",
              "      <td>LINCOLN ST</td>\n",
              "      <td>42.357791</td>\n",
              "      <td>-71.139371</td>\n",
              "      <td>(42.35779134, -71.13937053)</td>\n",
              "    </tr>\n",
              "    <tr>\n",
              "      <th>1</th>\n",
              "      <td>I182070943</td>\n",
              "      <td>1402</td>\n",
              "      <td>Vandalism</td>\n",
              "      <td>VANDALISM</td>\n",
              "      <td>C11</td>\n",
              "      <td>347</td>\n",
              "      <td>NaN</td>\n",
              "      <td>2018-08-21 00:00:00</td>\n",
              "      <td>2018</td>\n",
              "      <td>8</td>\n",
              "      <td>Tuesday</td>\n",
              "      <td>0</td>\n",
              "      <td>Part Two</td>\n",
              "      <td>HECLA ST</td>\n",
              "      <td>42.306821</td>\n",
              "      <td>-71.060300</td>\n",
              "      <td>(42.30682138, -71.06030035)</td>\n",
              "    </tr>\n",
              "    <tr>\n",
              "      <th>2</th>\n",
              "      <td>I182070941</td>\n",
              "      <td>3410</td>\n",
              "      <td>Towed</td>\n",
              "      <td>TOWED MOTOR VEHICLE</td>\n",
              "      <td>D4</td>\n",
              "      <td>151</td>\n",
              "      <td>NaN</td>\n",
              "      <td>2018-09-03 19:27:00</td>\n",
              "      <td>2018</td>\n",
              "      <td>9</td>\n",
              "      <td>Monday</td>\n",
              "      <td>19</td>\n",
              "      <td>Part Three</td>\n",
              "      <td>CAZENOVE ST</td>\n",
              "      <td>42.346589</td>\n",
              "      <td>-71.072429</td>\n",
              "      <td>(42.34658879, -71.07242943)</td>\n",
              "    </tr>\n",
              "    <tr>\n",
              "      <th>3</th>\n",
              "      <td>I182070940</td>\n",
              "      <td>3114</td>\n",
              "      <td>Investigate Property</td>\n",
              "      <td>INVESTIGATE PROPERTY</td>\n",
              "      <td>D4</td>\n",
              "      <td>272</td>\n",
              "      <td>NaN</td>\n",
              "      <td>2018-09-03 21:16:00</td>\n",
              "      <td>2018</td>\n",
              "      <td>9</td>\n",
              "      <td>Monday</td>\n",
              "      <td>21</td>\n",
              "      <td>Part Three</td>\n",
              "      <td>NEWCOMB ST</td>\n",
              "      <td>42.334182</td>\n",
              "      <td>-71.078664</td>\n",
              "      <td>(42.33418175, -71.07866441)</td>\n",
              "    </tr>\n",
              "    <tr>\n",
              "      <th>4</th>\n",
              "      <td>I182070938</td>\n",
              "      <td>3114</td>\n",
              "      <td>Investigate Property</td>\n",
              "      <td>INVESTIGATE PROPERTY</td>\n",
              "      <td>B3</td>\n",
              "      <td>421</td>\n",
              "      <td>NaN</td>\n",
              "      <td>2018-09-03 21:05:00</td>\n",
              "      <td>2018</td>\n",
              "      <td>9</td>\n",
              "      <td>Monday</td>\n",
              "      <td>21</td>\n",
              "      <td>Part Three</td>\n",
              "      <td>DELHI ST</td>\n",
              "      <td>42.275365</td>\n",
              "      <td>-71.090361</td>\n",
              "      <td>(42.27536542, -71.09036101)</td>\n",
              "    </tr>\n",
              "  </tbody>\n",
              "</table>\n",
              "</div>"
            ],
            "text/plain": [
              "       NUMBER  CODE  ...       Long                     Location\n",
              "0  I182070945   619  ... -71.139371  (42.35779134, -71.13937053)\n",
              "1  I182070943  1402  ... -71.060300  (42.30682138, -71.06030035)\n",
              "2  I182070941  3410  ... -71.072429  (42.34658879, -71.07242943)\n",
              "3  I182070940  3114  ... -71.078664  (42.33418175, -71.07866441)\n",
              "4  I182070938  3114  ... -71.090361  (42.27536542, -71.09036101)\n",
              "\n",
              "[5 rows x 17 columns]"
            ]
          },
          "metadata": {
            "tags": []
          },
          "execution_count": 33
        }
      ]
    },
    {
      "cell_type": "markdown",
      "metadata": {
        "id": "Qv8VXGPm2Bwt"
      },
      "source": [
        "# **Exploratory analysis**\n"
      ]
    },
    {
      "cell_type": "code",
      "metadata": {
        "id": "WK3vH5SYho-m",
        "outputId": "de60b1de-8adb-4a68-c726-c8a091fa25f9",
        "colab": {
          "base_uri": "https://localhost:8080/",
          "height": 712
        }
      },
      "source": [
        "\"\"\"\n",
        "Data investigation.\n",
        "function to return the main information from our beginning\n",
        "\"\"\"\n",
        "def data_inv(df):\n",
        "    print(f'Rows and columns: {df.shape}')\n",
        "    print(f'Database variables: {df.shape[1]}')\n",
        "    print('-' * 33)\n",
        "    print('Dataset columns: \\n')\n",
        "    print(df.columns)\n",
        "    print('-' * 33)\n",
        "    print('Datatype of each column: \\n')\n",
        "    print(df.dtypes)\n",
        "    print('-' * 33)\n",
        "    print('Missing rows in each column: \\n')\n",
        "    null = df.isnull().sum()\n",
        "    print(null[null > 0])\n",
        "data_inv(df)"
      ],
      "execution_count": 34,
      "outputs": [
        {
          "output_type": "stream",
          "text": [
            "Rows and columns: (319073, 17)\n",
            "Database variables: 17\n",
            "---------------------------------\n",
            "Dataset columns: \n",
            "\n",
            "Index(['NUMBER', 'CODE', 'GROUP', 'DESCRIPTION', 'DISTRICT', 'AREA',\n",
            "       'SHOOTING', 'DATE', 'YEAR', 'MONTH', 'WEEK', 'HOUR', 'UCR_PART',\n",
            "       'STREET', 'Lat', 'Long', 'Location'],\n",
            "      dtype='object')\n",
            "---------------------------------\n",
            "Datatype of each column: \n",
            "\n",
            "NUMBER          object\n",
            "CODE             int64\n",
            "GROUP           object\n",
            "DESCRIPTION     object\n",
            "DISTRICT        object\n",
            "AREA            object\n",
            "SHOOTING        object\n",
            "DATE            object\n",
            "YEAR             int64\n",
            "MONTH            int64\n",
            "WEEK            object\n",
            "HOUR             int64\n",
            "UCR_PART        object\n",
            "STREET          object\n",
            "Lat            float64\n",
            "Long           float64\n",
            "Location        object\n",
            "dtype: object\n",
            "---------------------------------\n",
            "Missing rows in each column: \n",
            "\n",
            "DISTRICT      1765\n",
            "SHOOTING    318054\n",
            "UCR_PART        90\n",
            "STREET       10871\n",
            "Lat          19999\n",
            "Long         19999\n",
            "dtype: int64\n"
          ],
          "name": "stdout"
        }
      ]
    },
    {
      "cell_type": "code",
      "metadata": {
        "id": "08dWSlI9suaP",
        "outputId": "d21f7ef3-0948-407b-86fe-8cb69db4c644",
        "colab": {
          "base_uri": "https://localhost:8080/",
          "height": 86
        }
      },
      "source": [
        "# Interesting information\n",
        "max_street_crime = df['STREET'].value_counts().index[0]\n",
        "max_year_crime = df['YEAR'].value_counts().index[0]\n",
        "max_hour_crime = df['HOUR'].value_counts().index[0]\n",
        "max_day_crime = df['WEEK'].value_counts().index[0]\n",
        "\n",
        "month = ['January','February','March','April','May','June','July',\n",
        "         'August','September','October','November','December']\n",
        "\n",
        "print('Street with higher occurrence of crimes:', max_street_crime)\n",
        "print('Year with highest crime occurrence:', max_year_crime)\n",
        "print('Hour with highest crime occurrence:', max_hour_crime)\n",
        "print('Day with highest crime occurrence:', max_day_crime)"
      ],
      "execution_count": 35,
      "outputs": [
        {
          "output_type": "stream",
          "text": [
            "Street with higher occurrence of crimes: WASHINGTON ST\n",
            "Year with highest crime occurrence: 2017\n",
            "Hour with highest crime occurrence: 17\n",
            "Day with highest crime occurrence: Friday\n"
          ],
          "name": "stdout"
        }
      ]
    },
    {
      "cell_type": "markdown",
      "metadata": {
        "id": "Adhg26eis_tA"
      },
      "source": [
        "Before going into more detail, we have some important information, such as the street with the highest number of occurrences, year, day and time. Next, we'll check and compare with the history."
      ]
    },
    {
      "cell_type": "code",
      "metadata": {
        "id": "fWrEiO302UMK",
        "outputId": "9c40d52b-d0ee-4e8e-e313-26920054a094",
        "colab": {
          "base_uri": "https://localhost:8080/",
          "height": 535
        }
      },
      "source": [
        "# values per week\n",
        "def week(df):\n",
        "    print(\"Values per week: \")\n",
        "    print(df.WEEK.value_counts())\n",
        "    print('-' * 32)\n",
        "    df['WEEK'].value_counts().plot.bar(figsize=(10,5), rot=0,\n",
        "                                              grid=True,\n",
        "                                              title='Values per week',\n",
        "                                              color='red');\n",
        "week(df) "
      ],
      "execution_count": 36,
      "outputs": [
        {
          "output_type": "stream",
          "text": [
            "Values per week: \n",
            "Friday       48495\n",
            "Wednesday    46729\n",
            "Thursday     46656\n",
            "Tuesday      46383\n",
            "Monday       45679\n",
            "Saturday     44818\n",
            "Sunday       40313\n",
            "Name: WEEK, dtype: int64\n",
            "--------------------------------\n"
          ],
          "name": "stdout"
        },
        {
          "output_type": "display_data",
          "data": {
            "image/png": "[encoded data removed]",
            "text/plain": [
              "<Figure size 720x360 with 1 Axes>"
            ]
          },
          "metadata": {
            "tags": []
          }
        }
      ]
    },
    {
      "cell_type": "markdown",
      "metadata": {
        "id": "fFiySOGJvBKp"
      },
      "source": [
        "The graph above shows the occurrences by day of the week, we see a high level of occurrence on Friday."
      ]
    },
    {
      "cell_type": "code",
      "metadata": {
        "id": "WtZX35_f-0uy",
        "outputId": "3f2b8edf-1d13-4909-9f4b-bb20356506d5",
        "colab": {
          "base_uri": "https://localhost:8080/",
          "height": 475
        }
      },
      "source": [
        "# Chart with five most popular crimes since 2015 to 2018\n",
        "crime = df.GROUP.value_counts() \n",
        "crime.head()\n",
        "crime = crime.to_frame()\n",
        "plt.figure(figsize=(15,7))\n",
        "sns.barplot(x=crime.index[:5],y='GROUP', data=crime.head())\n",
        "plt.title('Most Popular Crime 2015-2018',fontsize=15)\n",
        "plt.show()"
      ],
      "execution_count": 37,
      "outputs": [
        {
          "output_type": "display_data",
          "data": {
            "image/png": "[encoded data removed]",
            "text/plain": [
              "<Figure size 1080x504 with 1 Axes>"
            ]
          },
          "metadata": {
            "tags": []
          }
        }
      ]
    },
    {
      "cell_type": "markdown",
      "metadata": {
        "id": "4QMp3wWhZKX1"
      },
      "source": [
        "With the chart above, we see that the largest number of incidents since 2015 is Response to vehicle accidents with a long difference between Larceny."
      ]
    },
    {
      "cell_type": "code",
      "metadata": {
        "id": "fkM7eHNEH8P9",
        "outputId": "3c2dce78-80c7-4bd1-fc27-f62d93b97f0b",
        "colab": {
          "base_uri": "https://localhost:8080/",
          "height": 639
        }
      },
      "source": [
        "# crimes by district\n",
        "def district(df):\n",
        "    print(\"Values per district: \\n\")\n",
        "    print(df.DISTRICT.value_counts())\n",
        "    print('-' * 30)\n",
        "    df['DISTRICT'].value_counts().plot.bar(figsize=(10,5), rot=0,\n",
        "                                           grid=False,\n",
        "                                           title='Crimes per district',\n",
        "                                           color='blue')\n",
        "district(df)"
      ],
      "execution_count": 38,
      "outputs": [
        {
          "output_type": "stream",
          "text": [
            "Values per district: \n",
            "\n",
            "B2     49945\n",
            "C11    42530\n",
            "D4     41915\n",
            "A1     35717\n",
            "B3     35442\n",
            "C6     23460\n",
            "D14    20127\n",
            "E13    17536\n",
            "E18    17348\n",
            "A7     13544\n",
            "E5     13239\n",
            "A15     6505\n",
            "Name: DISTRICT, dtype: int64\n",
            "------------------------------\n"
          ],
          "name": "stdout"
        },
        {
          "output_type": "display_data",
          "data": {
            "image/png": "[encoded data removed]",
            "text/plain": [
              "<Figure size 720x360 with 1 Axes>"
            ]
          },
          "metadata": {
            "tags": []
          }
        }
      ]
    },
    {
      "cell_type": "markdown",
      "metadata": {
        "id": "TjYn87aVZzvg"
      },
      "source": [
        "This analysis makes us realize the difference in reports between the districts."
      ]
    },
    {
      "cell_type": "code",
      "metadata": {
        "id": "wwqHVbX-h-jf",
        "outputId": "f046946c-19ed-4df6-fd24-444e736d24e7",
        "colab": {
          "base_uri": "https://localhost:8080/",
          "height": 380
        }
      },
      "source": [
        "# Number of crimes per month\n",
        "df.groupby(['YEAR','MONTH'])['GROUP'].agg('count').unstack('YEAR')\n",
        "fig,ax=plt.subplots(figsize=(15,5))\n",
        "df.groupby(['MONTH','YEAR'])['GROUP'].agg('count').unstack().plot(kind='bar',ax=ax)\n",
        "plt.xticks(rotation=360)\n",
        "plt.title(\"Number of crimes per month\", fontsize=15)\n",
        "plt.grid(True)"
      ],
      "execution_count": 39,
      "outputs": [
        {
          "output_type": "display_data",
          "data": {
            "image/png": "[encoded data removed]",
            "text/plain": [
              "<Figure size 1080x360 with 1 Axes>"
            ]
          },
          "metadata": {
            "tags": []
          }
        }
      ]
    },
    {
      "cell_type": "markdown",
      "metadata": {
        "id": "TGPfl-xjvacq"
      },
      "source": [
        "In the chart above, we have an analysis of the four years. 2015-2018. Where it shows us the total number of occurrences per month each year. We can see that the 2016 increase comes from month five. And in 2018, it started with the large number of occurrences and in the month nine a smaller number.\n"
      ]
    },
    {
      "cell_type": "code",
      "metadata": {
        "id": "5FZLIChFUXby",
        "outputId": "a14dd829-beb9-46b1-c742-21ca31ca9411",
        "colab": {
          "base_uri": "https://localhost:8080/",
          "height": 358
        }
      },
      "source": [
        "# Five of the districts with the highest number of crimes\n",
        "district2 = df.DISTRICT.value_counts() \n",
        "district2.head()\n",
        "district2 = district2.to_frame()\n",
        "plt.figure(figsize=(10,5))\n",
        "sns.barplot(x=district2.index[:5],y='DISTRICT', data=district2.head())\n",
        "plt.title('Five districts most popular',fontsize=15)\n",
        "plt.show()"
      ],
      "execution_count": 40,
      "outputs": [
        {
          "output_type": "display_data",
          "data": {
            "image/png": "[encoded data removed]",
            "text/plain": [
              "<Figure size 720x360 with 1 Axes>"
            ]
          },
          "metadata": {
            "tags": []
          }
        }
      ]
    },
    {
      "cell_type": "markdown",
      "metadata": {
        "id": "jYyRoypDW4KH"
      },
      "source": [
        "With the graphs above, we can see the large number of occurrences in district B2. We also noticed that D4 and C11 have a small difference of 45 crimes. Then, we confirm that between B3 and A1 there is a difference of 18 crimes."
      ]
    },
    {
      "cell_type": "code",
      "metadata": {
        "id": "CO3crQ-gxPG9",
        "outputId": "e6d5dc70-8f03-4153-adba-a6c600443202",
        "colab": {
          "base_uri": "https://localhost:8080/",
          "height": 52
        }
      },
      "source": [
        "# Difference between districts\n",
        "df2 = df[df['DISTRICT']=='B2']\n",
        "df3 = df[df['DISTRICT']=='D4']\n",
        "\n",
        "max_in_b2 = df2.GROUP.value_counts().index[0]\n",
        "max_in_d4 = df3.GROUP.value_counts().index[0]\n",
        "\n",
        "print(f\"The most popular occurrence in district B2: {max_in_b2}\")\n",
        "print(f\"The most popular occurrence in district D4: {max_in_d4}\")"
      ],
      "execution_count": 41,
      "outputs": [
        {
          "output_type": "stream",
          "text": [
            "The most popular occurrence in district B2: Motor Vehicle Accident Response\n",
            "The most popular occurrence in district D4: Larceny\n"
          ],
          "name": "stdout"
        }
      ]
    },
    {
      "cell_type": "markdown",
      "metadata": {
        "id": "B2cEujwTzJqC"
      },
      "source": [
        "Now we have the comparison between crimes in district B2 and D4. We see that B2 brings the greatest number of responses to vehicle accidents. And B2 brings the greatest number of Larceny."
      ]
    },
    {
      "cell_type": "markdown",
      "metadata": {
        "id": "G4nNKAlb1EZQ"
      },
      "source": [
        "# Conclusion of the brief analysis"
      ]
    },
    {
      "cell_type": "markdown",
      "metadata": {
        "id": "T9Z-rOFj1G5v"
      },
      "source": [
        "We can confirm in this conclusion that we have the highest number of crimes between neighborhoods B2 and D4, with different occurrences, B2 with the highest frequency of Response to Automobile Accidents and D4 with the highest frequency of Larceny."
      ]
    }
  ]
}