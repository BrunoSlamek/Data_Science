{
  "nbformat": 4,
  "nbformat_minor": 0,
  "metadata": {
    "colab": {
      "name": "Simple_data_analytics.ipynb",
      "provenance": [],
      "collapsed_sections": [],
      "authorship_tag": "ABX9TyMMlY2z6Ct4svdjWORnAzGS",
      "include_colab_link": true
    },
    "kernelspec": {
      "name": "python3",
      "display_name": "Python 3"
    }
  },
  "cells": [
    {
      "cell_type": "markdown",
      "metadata": {
        "id": "view-in-github",
        "colab_type": "text"
      },
      "source": [
        "<a href=\"https://colab.research.google.com/github/BrunoSlamek/Data_Science/blob/master/Simple_data_analytics.ipynb\" target=\"_parent\"><img src=\"https://colab.research.google.com/assets/colab-badge.svg\" alt=\"Open In Colab\"/></a>"
      ]
    },
    {
      "cell_type": "markdown",
      "metadata": {
        "id": "tT0aWfNe-hO6"
      },
      "source": [
        "A **simple analysis** of netflix data from **2008** to early **2020**\n",
        "\n",
        "The dataset consists of meta details about the movies and tv shows such as the title, director, and cast of the shows / movies. Details such as the release year, the rating, duration etc."
      ]
    },
    {
      "cell_type": "code",
      "metadata": {
        "id": "qcCD3TozWVLQ"
      },
      "source": [
        "import pandas as pd\n",
        "import numpy as np\n",
        "import matplotlib.pyplot as plt\n",
        "import plotly.graph_objects as go\n",
        "from collections import *\n",
        "from plotly.subplots import make_subplots\n",
        "from pandas_profiling import *"
      ],
      "execution_count": 1,
      "outputs": []
    },
    {
      "cell_type": "code",
      "metadata": {
        "id": "jjRaTib1WaxY"
      },
      "source": [
        "# Read data file csv\n",
        "df = pd.read_csv('/content/netflix_titles.csv')"
      ],
      "execution_count": 2,
      "outputs": []
    },
    {
      "cell_type": "code",
      "metadata": {
        "id": "yXErYklFyJnb",
        "outputId": "6e018918-5ca0-440e-bc9a-97aca86aa048",
        "colab": {
          "base_uri": "https://localhost:8080/",
          "height": 380
        }
      },
      "source": [
        "df.head(5)"
      ],
      "execution_count": 3,
      "outputs": [
        {
          "output_type": "execute_result",
          "data": {
            "text/html": [
              "<div>\n",
              "<style scoped>\n",
              "    .dataframe tbody tr th:only-of-type {\n",
              "        vertical-align: middle;\n",
              "    }\n",
              "\n",
              "    .dataframe tbody tr th {\n",
              "        vertical-align: top;\n",
              "    }\n",
              "\n",
              "    .dataframe thead th {\n",
              "        text-align: right;\n",
              "    }\n",
              "</style>\n",
              "<table border=\"1\" class=\"dataframe\">\n",
              "  <thead>\n",
              "    <tr style=\"text-align: right;\">\n",
              "      <th></th>\n",
              "      <th>show_id</th>\n",
              "      <th>type</th>\n",
              "      <th>title</th>\n",
              "      <th>director</th>\n",
              "      <th>cast</th>\n",
              "      <th>country</th>\n",
              "      <th>date_added</th>\n",
              "      <th>release_year</th>\n",
              "      <th>rating</th>\n",
              "      <th>duration</th>\n",
              "      <th>listed_in</th>\n",
              "      <th>description</th>\n",
              "    </tr>\n",
              "  </thead>\n",
              "  <tbody>\n",
              "    <tr>\n",
              "      <th>0</th>\n",
              "      <td>81145628</td>\n",
              "      <td>Movie</td>\n",
              "      <td>Norm of the North: King Sized Adventure</td>\n",
              "      <td>Richard Finn, Tim Maltby</td>\n",
              "      <td>Alan Marriott, Andrew Toth, Brian Dobson, Cole...</td>\n",
              "      <td>United States, India, South Korea, China</td>\n",
              "      <td>September 9, 2019</td>\n",
              "      <td>2019</td>\n",
              "      <td>TV-PG</td>\n",
              "      <td>90 min</td>\n",
              "      <td>Children &amp; Family Movies, Comedies</td>\n",
              "      <td>Before planning an awesome wedding for his gra...</td>\n",
              "    </tr>\n",
              "    <tr>\n",
              "      <th>1</th>\n",
              "      <td>80117401</td>\n",
              "      <td>Movie</td>\n",
              "      <td>Jandino: Whatever it Takes</td>\n",
              "      <td>NaN</td>\n",
              "      <td>Jandino Asporaat</td>\n",
              "      <td>United Kingdom</td>\n",
              "      <td>September 9, 2016</td>\n",
              "      <td>2016</td>\n",
              "      <td>TV-MA</td>\n",
              "      <td>94 min</td>\n",
              "      <td>Stand-Up Comedy</td>\n",
              "      <td>Jandino Asporaat riffs on the challenges of ra...</td>\n",
              "    </tr>\n",
              "    <tr>\n",
              "      <th>2</th>\n",
              "      <td>70234439</td>\n",
              "      <td>TV Show</td>\n",
              "      <td>Transformers Prime</td>\n",
              "      <td>NaN</td>\n",
              "      <td>Peter Cullen, Sumalee Montano, Frank Welker, J...</td>\n",
              "      <td>United States</td>\n",
              "      <td>September 8, 2018</td>\n",
              "      <td>2013</td>\n",
              "      <td>TV-Y7-FV</td>\n",
              "      <td>1 Season</td>\n",
              "      <td>Kids' TV</td>\n",
              "      <td>With the help of three human allies, the Autob...</td>\n",
              "    </tr>\n",
              "    <tr>\n",
              "      <th>3</th>\n",
              "      <td>80058654</td>\n",
              "      <td>TV Show</td>\n",
              "      <td>Transformers: Robots in Disguise</td>\n",
              "      <td>NaN</td>\n",
              "      <td>Will Friedle, Darren Criss, Constance Zimmer, ...</td>\n",
              "      <td>United States</td>\n",
              "      <td>September 8, 2018</td>\n",
              "      <td>2016</td>\n",
              "      <td>TV-Y7</td>\n",
              "      <td>1 Season</td>\n",
              "      <td>Kids' TV</td>\n",
              "      <td>When a prison ship crash unleashes hundreds of...</td>\n",
              "    </tr>\n",
              "    <tr>\n",
              "      <th>4</th>\n",
              "      <td>80125979</td>\n",
              "      <td>Movie</td>\n",
              "      <td>#realityhigh</td>\n",
              "      <td>Fernando Lebrija</td>\n",
              "      <td>Nesta Cooper, Kate Walsh, John Michael Higgins...</td>\n",
              "      <td>United States</td>\n",
              "      <td>September 8, 2017</td>\n",
              "      <td>2017</td>\n",
              "      <td>TV-14</td>\n",
              "      <td>99 min</td>\n",
              "      <td>Comedies</td>\n",
              "      <td>When nerdy high schooler Dani finally attracts...</td>\n",
              "    </tr>\n",
              "  </tbody>\n",
              "</table>\n",
              "</div>"
            ],
            "text/plain": [
              "    show_id  ...                                        description\n",
              "0  81145628  ...  Before planning an awesome wedding for his gra...\n",
              "1  80117401  ...  Jandino Asporaat riffs on the challenges of ra...\n",
              "2  70234439  ...  With the help of three human allies, the Autob...\n",
              "3  80058654  ...  When a prison ship crash unleashes hundreds of...\n",
              "4  80125979  ...  When nerdy high schooler Dani finally attracts...\n",
              "\n",
              "[5 rows x 12 columns]"
            ]
          },
          "metadata": {
            "tags": []
          },
          "execution_count": 3
        }
      ]
    },
    {
      "cell_type": "code",
      "metadata": {
        "id": "aYgedn3xy43s",
        "outputId": "fc500dfb-31f4-4122-a78a-c15a6c621c07",
        "colab": {
          "base_uri": "https://localhost:8080/",
          "height": 590
        }
      },
      "source": [
        "# Data investigation\n",
        "def data_inv(df):\n",
        "    print(f'Netflix Movies and Shows: {df.shape[0]}')\n",
        "    print(f'Database Variables: {df.shape[1]}')\n",
        "    print('-' * 30)\n",
        "    print('Dataset Columns: \\n')\n",
        "    print(df.columns)\n",
        "    print('-' * 30)\n",
        "    print('Datatype of Each Column: \\n')\n",
        "    print(df.dtypes)\n",
        "    print('-' * 30)\n",
        "    print('Missing Rows in Each Column: \\n')\n",
        "    c=df.isnull().sum()\n",
        "    print(c[c > 0])\n",
        "data_inv(df)"
      ],
      "execution_count": 4,
      "outputs": [
        {
          "output_type": "stream",
          "text": [
            "Netflix Movies and Shows: 6234\n",
            "Database Variables: 12\n",
            "------------------------------\n",
            "Dataset Columns: \n",
            "\n",
            "Index(['show_id', 'type', 'title', 'director', 'cast', 'country', 'date_added',\n",
            "       'release_year', 'rating', 'duration', 'listed_in', 'description'],\n",
            "      dtype='object')\n",
            "------------------------------\n",
            "Datatype of Each Column: \n",
            "\n",
            "show_id          int64\n",
            "type            object\n",
            "title           object\n",
            "director        object\n",
            "cast            object\n",
            "country         object\n",
            "date_added      object\n",
            "release_year     int64\n",
            "rating          object\n",
            "duration        object\n",
            "listed_in       object\n",
            "description     object\n",
            "dtype: object\n",
            "------------------------------\n",
            "Missing Rows in Each Column: \n",
            "\n",
            "director      1969\n",
            "cast           570\n",
            "country        476\n",
            "date_added      11\n",
            "rating          10\n",
            "dtype: int64\n"
          ],
          "name": "stdout"
        }
      ]
    },
    {
      "cell_type": "code",
      "metadata": {
        "id": "nTEtEeARW4s8"
      },
      "source": [
        "# changing column data type\n",
        "df['date_added'] = pd.to_datetime(df['date_added'])"
      ],
      "execution_count": 5,
      "outputs": []
    },
    {
      "cell_type": "code",
      "metadata": {
        "id": "8VH1jIjoXjnP",
        "outputId": "5693d180-d7b4-4f99-e8a5-f2369550ce70",
        "colab": {
          "base_uri": "https://localhost:8080/",
          "height": 243
        }
      },
      "source": [
        "df.dtypes"
      ],
      "execution_count": 6,
      "outputs": [
        {
          "output_type": "execute_result",
          "data": {
            "text/plain": [
              "show_id                  int64\n",
              "type                    object\n",
              "title                   object\n",
              "director                object\n",
              "cast                    object\n",
              "country                 object\n",
              "date_added      datetime64[ns]\n",
              "release_year             int64\n",
              "rating                  object\n",
              "duration                object\n",
              "listed_in               object\n",
              "description             object\n",
              "dtype: object"
            ]
          },
          "metadata": {
            "tags": []
          },
          "execution_count": 6
        }
      ]
    },
    {
      "cell_type": "code",
      "metadata": {
        "id": "H4AmGMlyzdzX",
        "outputId": "43220564-79db-4c88-845c-f56943d9efc5",
        "colab": {
          "base_uri": "https://localhost:8080/",
          "height": 69
        }
      },
      "source": [
        "# Data comparison\n",
        "df.type.value_counts()"
      ],
      "execution_count": 7,
      "outputs": [
        {
          "output_type": "execute_result",
          "data": {
            "text/plain": [
              "Movie      4265\n",
              "TV Show    1969\n",
              "Name: type, dtype: int64"
            ]
          },
          "metadata": {
            "tags": []
          },
          "execution_count": 7
        }
      ]
    },
    {
      "cell_type": "code",
      "metadata": {
        "id": "T-XjfwtvSDGj",
        "outputId": "5479cb51-7371-4601-8ce6-7054f999354c",
        "colab": {
          "base_uri": "https://localhost:8080/",
          "height": 52
        }
      },
      "source": [
        "# Getting the percentage\n",
        "movie_cent = len(df[df.type == 'Movie'])\n",
        "tv_show_cent = len(df[df.type == 'TV Show'])\n",
        "\n",
        "print('Percentage of Movies: {:.1f}%'.format((movie_cent / len(df.type)) * 100))\n",
        "print('Percentage of TV Shows: {:.1f}%'.format((tv_show_cent / len(df.type)) * 100))"
      ],
      "execution_count": 8,
      "outputs": [
        {
          "output_type": "stream",
          "text": [
            "Percentage of Movies: 68.4%\n",
            "Percentage of TV Shows: 31.6%\n"
          ],
          "name": "stdout"
        }
      ]
    },
    {
      "cell_type": "code",
      "metadata": {
        "id": "hn5cWcMDU4RP",
        "outputId": "45a2847a-019f-4938-d202-2543a93cd3fd",
        "colab": {
          "base_uri": "https://localhost:8080/",
          "height": 248
        }
      },
      "source": [
        "# Percentage graph\n",
        "df.type.value_counts().plot(kind='pie', autopct='%1.f%%', startangle=90)\n",
        "plt.show()"
      ],
      "execution_count": 9,
      "outputs": [
        {
          "output_type": "display_data",
          "data": {
            "image/png": "[encoded data removed]",
            "text/plain": [
              "<Figure size 432x288 with 1 Axes>"
            ]
          },
          "metadata": {
            "tags": []
          }
        }
      ]
    },
    {
      "cell_type": "code",
      "metadata": {
        "id": "43xrOHCnVdKx",
        "outputId": "623011cb-15b3-4453-9828-7727e9c00bfb",
        "colab": {
          "base_uri": "https://localhost:8080/",
          "height": 320
        }
      },
      "source": [
        "# titles added per year\n",
        "pd.crosstab(df.date_added.dt.year, df.type).plot(kind = 'bar')\n",
        "plt.xlabel('Year Added to Netflix')\n",
        "plt.ylabel('Number of Titles')\n",
        "plt.title('Titles Added per Year')\n",
        "plt.show()"
      ],
      "execution_count": 10,
      "outputs": [
        {
          "output_type": "display_data",
          "data": {
            "image/png": "[encoded data removed]",
            "text/plain": [
              "<Figure size 432x288 with 1 Axes>"
            ]
          },
          "metadata": {
            "tags": [],
            "needs_background": "light"
          }
        }
      ]
    },
    {
      "cell_type": "code",
      "metadata": {
        "id": "jkVR26WIzBBs",
        "outputId": "859a1a52-9fdb-4ccb-8594-99270a87d6d7",
        "colab": {
          "base_uri": "https://localhost:8080/",
          "height": 520
        }
      },
      "source": [
        "# Some of the oldest Netflix movies\n",
        "small = df.sort_values(\"release_year\", ascending = True)\n",
        "small = small[small['duration'] != \"\"]\n",
        "small[['title', \"release_year\"]][:15]"
      ],
      "execution_count": 11,
      "outputs": [
        {
          "output_type": "execute_result",
          "data": {
            "text/html": [
              "<div>\n",
              "<style scoped>\n",
              "    .dataframe tbody tr th:only-of-type {\n",
              "        vertical-align: middle;\n",
              "    }\n",
              "\n",
              "    .dataframe tbody tr th {\n",
              "        vertical-align: top;\n",
              "    }\n",
              "\n",
              "    .dataframe thead th {\n",
              "        text-align: right;\n",
              "    }\n",
              "</style>\n",
              "<table border=\"1\" class=\"dataframe\">\n",
              "  <thead>\n",
              "    <tr style=\"text-align: right;\">\n",
              "      <th></th>\n",
              "      <th>title</th>\n",
              "      <th>release_year</th>\n",
              "    </tr>\n",
              "  </thead>\n",
              "  <tbody>\n",
              "    <tr>\n",
              "      <th>4292</th>\n",
              "      <td>Pioneers: First Women Filmmakers*</td>\n",
              "      <td>1925</td>\n",
              "    </tr>\n",
              "    <tr>\n",
              "      <th>2011</th>\n",
              "      <td>Prelude to War</td>\n",
              "      <td>1942</td>\n",
              "    </tr>\n",
              "    <tr>\n",
              "      <th>2013</th>\n",
              "      <td>The Battle of Midway</td>\n",
              "      <td>1942</td>\n",
              "    </tr>\n",
              "    <tr>\n",
              "      <th>2022</th>\n",
              "      <td>Undercover: How to Operate Behind Enemy Lines</td>\n",
              "      <td>1943</td>\n",
              "    </tr>\n",
              "    <tr>\n",
              "      <th>2023</th>\n",
              "      <td>Why We Fight: The Battle of Russia</td>\n",
              "      <td>1943</td>\n",
              "    </tr>\n",
              "    <tr>\n",
              "      <th>2026</th>\n",
              "      <td>WWII: Report from the Aleutians</td>\n",
              "      <td>1943</td>\n",
              "    </tr>\n",
              "    <tr>\n",
              "      <th>2017</th>\n",
              "      <td>The Memphis Belle: A Story of a\\nFlying Fortress</td>\n",
              "      <td>1944</td>\n",
              "    </tr>\n",
              "    <tr>\n",
              "      <th>2019</th>\n",
              "      <td>The Negro Soldier</td>\n",
              "      <td>1944</td>\n",
              "    </tr>\n",
              "    <tr>\n",
              "      <th>2021</th>\n",
              "      <td>Tunisian Victory</td>\n",
              "      <td>1944</td>\n",
              "    </tr>\n",
              "    <tr>\n",
              "      <th>2012</th>\n",
              "      <td>San Pietro</td>\n",
              "      <td>1945</td>\n",
              "    </tr>\n",
              "    <tr>\n",
              "      <th>2009</th>\n",
              "      <td>Nazi Concentration Camps</td>\n",
              "      <td>1945</td>\n",
              "    </tr>\n",
              "    <tr>\n",
              "      <th>2005</th>\n",
              "      <td>Know Your Enemy - Japan</td>\n",
              "      <td>1945</td>\n",
              "    </tr>\n",
              "    <tr>\n",
              "      <th>2930</th>\n",
              "      <td>The Stranger</td>\n",
              "      <td>1946</td>\n",
              "    </tr>\n",
              "    <tr>\n",
              "      <th>4079</th>\n",
              "      <td>Pioneers of African-American Cinema</td>\n",
              "      <td>1946</td>\n",
              "    </tr>\n",
              "    <tr>\n",
              "      <th>2006</th>\n",
              "      <td>Let There Be Light</td>\n",
              "      <td>1946</td>\n",
              "    </tr>\n",
              "  </tbody>\n",
              "</table>\n",
              "</div>"
            ],
            "text/plain": [
              "                                                 title  release_year\n",
              "4292                 Pioneers: First Women Filmmakers*          1925\n",
              "2011                                    Prelude to War          1942\n",
              "2013                              The Battle of Midway          1942\n",
              "2022     Undercover: How to Operate Behind Enemy Lines          1943\n",
              "2023                Why We Fight: The Battle of Russia          1943\n",
              "2026                   WWII: Report from the Aleutians          1943\n",
              "2017  The Memphis Belle: A Story of a\\nFlying Fortress          1944\n",
              "2019                                 The Negro Soldier          1944\n",
              "2021                                  Tunisian Victory          1944\n",
              "2012                                        San Pietro          1945\n",
              "2009                          Nazi Concentration Camps          1945\n",
              "2005                           Know Your Enemy - Japan          1945\n",
              "2930                                      The Stranger          1946\n",
              "4079               Pioneers of African-American Cinema          1946\n",
              "2006                                Let There Be Light          1946"
            ]
          },
          "metadata": {
            "tags": []
          },
          "execution_count": 11
        }
      ]
    },
    {
      "cell_type": "code",
      "metadata": {
        "id": "734wcOqL0ZVn",
        "outputId": "28c05e89-934e-4506-9d31-9c5e4a1b7d66",
        "colab": {
          "base_uri": "https://localhost:8080/",
          "height": 69
        }
      },
      "source": [
        "df.columns"
      ],
      "execution_count": 12,
      "outputs": [
        {
          "output_type": "execute_result",
          "data": {
            "text/plain": [
              "Index(['show_id', 'type', 'title', 'director', 'cast', 'country', 'date_added',\n",
              "       'release_year', 'rating', 'duration', 'listed_in', 'description'],\n",
              "      dtype='object')"
            ]
          },
          "metadata": {
            "tags": []
          },
          "execution_count": 12
        }
      ]
    },
    {
      "cell_type": "code",
      "metadata": {
        "id": "O4PBR8CL0cO1",
        "outputId": "66265a49-8e8b-4d22-e3a7-26289874f79e",
        "colab": {
          "base_uri": "https://localhost:8080/",
          "height": 1000
        }
      },
      "source": [
        "# Top Actors on Netflix with Most Movies\n",
        "\n",
        "\"\"\"\n",
        "Function to return the main actors of netflix films by country\n",
        "\"\"\"\n",
        "\n",
        "def country_trace(country, flag = \"movie\"):\n",
        "    df[\"from_us\"] = df['country'].fillna(\"\").apply(lambda x : 1 if country.lower() in x.lower() else 0)\n",
        "    small = df[df[\"from_us\"] == 1]\n",
        "    if flag == \"movie\":\n",
        "        small = small[small[\"duration\"] != \"\"]\n",
        "    else:\n",
        "        small = small[small[\"season_count\"] != \"\"]\n",
        "    cast = \", \".join(small['cast'].fillna(\"\")).split(\", \")\n",
        "    tags = Counter(cast).most_common(25)\n",
        "    tags = [_ for _ in tags if \"\" != _[0]]\n",
        "\n",
        "    labels, values = [_[0]+\"  \" for _ in tags], [_[1] for _ in tags]\n",
        "    trace = go.Bar(y=labels[::-1], x=values[::-1], orientation=\"h\", name=\"\", marker=dict(color=\"#a678de\"))\n",
        "    return trace\n",
        "\n",
        "traces = []\n",
        "titles = [\"United States\", \"\",\"India\",\"\", \"United Kingdom\", \"Canada\",\"\", \"Spain\",\"\", \"Japan\"]\n",
        "for title in titles:\n",
        "    if title != \"\":\n",
        "        traces.append(country_trace(title))\n",
        "\n",
        "fig = make_subplots(rows=2, cols=5, subplot_titles=titles)\n",
        "fig.add_trace(traces[0], 1,1)\n",
        "fig.add_trace(traces[1], 1,3)\n",
        "fig.add_trace(traces[2], 1,5)\n",
        "fig.add_trace(traces[3], 2,1)\n",
        "fig.add_trace(traces[4], 2,3)\n",
        "fig.add_trace(traces[5], 2,5)\n",
        "\n",
        "fig.update_layout(height=1200, showlegend=False)\n",
        "fig.show()"
      ],
      "execution_count": 13,
      "outputs": [
        {
          "output_type": "display_data",
          "data": {
            "text/html": [
              "<html>\n",
              "<head><meta charset=\"utf-8\" /></head>\n",
              "<body>\n",
              "    <div>\n",
              "            <script src=\"https://cdnjs.cloudflare.com/ajax/libs/mathjax/2.7.5/MathJax.js?config=TeX-AMS-MML_SVG\"></script><script type=\"text/javascript\">if (window.MathJax) {MathJax.Hub.Config({SVG: {font: \"STIX-Web\"}});}</script>\n",
              "                <script type=\"text/javascript\">window.PlotlyConfig = {MathJaxConfig: 'local'};</script>\n",
              "        <script src=\"https://cdn.plot.ly/plotly-latest.min.js\"></script>    \n",
              "            <div id=\"2b057ec0-0b50-4d13-86e8-eca0ab2abe81\" class=\"plotly-graph-div\" style=\"height:1200px; width:100%;\"></div>\n",
              "            <script type=\"text/javascript\">\n",
              "                \n",
              "                    window.PLOTLYENV=window.PLOTLYENV || {};\n",
              "                    \n",
              "                if (document.getElementById(\"2b057ec0-0b50-4d13-86e8-eca0ab2abe81\")) {\n",
              "                    Plotly.newPlot(\n",
              "                        '2b057ec0-0b50-4d13-86e8-eca0ab2abe81',\n",
              "                        [{\"marker\": {\"color\": \"#a678de\"}, \"name\": \"\", \"orientation\": \"h\", \"type\": \"bar\", \"x\": [11, 11, 11, 11, 12, 12, 12, 12, 13, 13, 13, 13, 13, 13, 13, 14, 14, 14, 15, 15, 15, 15, 17, 18], \"xaxis\": \"x\", \"y\": [\"Sean Astin  \", \"Adam Scott  \", \"Jason Schwartzman  \", \"Keanu Reeves  \", \"Johnny Depp  \", \"Seth Rogen  \", \"Keith David  \", \"Antonio Banderas  \", \"Debi Derryberry  \", \"Tabitha St. Germain  \", \"Andrea Libman  \", \"Adam Sandler  \", \"Danny Trejo  \", \"Laura Bailey  \", \"James Franco  \", \"Morgan Freeman  \", \"Samuel L. Jackson  \", \"Nicolas Cage  \", \"Kate Higgins  \", \"Erin Fitzgerald  \", \"Ashleigh Ball  \", \"Molly Shannon  \", \"Tara Strong  \", \"Fred Tatasciore  \"], \"yaxis\": \"y\"}, {\"marker\": {\"color\": \"#a678de\"}, \"name\": \"\", \"orientation\": \"h\", \"type\": \"bar\", \"x\": [13, 13, 14, 14, 14, 14, 14, 14, 14, 15, 15, 15, 15, 16, 17, 19, 23, 24, 25, 25, 26, 26, 29, 31], \"xaxis\": \"x3\", \"y\": [\"Katrina Kaif  \", \"Amrish Puri  \", \"Nawazuddin Siddiqui  \", \"Manoj Bajpayee  \", \"Salman Khan  \", \"Anil Kapoor  \", \"Jackie Shroff  \", \"Adil Hussain  \", \"Aamir Khan  \", \"Saif Ali Khan  \", \"Ajay Devgn  \", \"Asrani  \", \"Rajpal Yadav  \", \"Gulshan Grover  \", \"Kay Kay Menon  \", \"Kareena Kapoor  \", \"Boman Irani  \", \"Amitabh Bachchan  \", \"Paresh Rawal  \", \"Akshay Kumar  \", \"Om Puri  \", \"Naseeruddin Shah  \", \"Shah Rukh Khan  \", \"Anupam Kher  \"], \"yaxis\": \"y3\"}, {\"marker\": {\"color\": \"#a678de\"}, \"name\": \"\", \"orientation\": \"h\", \"type\": \"bar\", \"x\": [5, 5, 5, 5, 5, 5, 6, 6, 6, 6, 6, 6, 7, 7, 7, 8, 9, 10, 10, 11, 11, 12, 14, 16], \"xaxis\": \"x5\", \"y\": [\"Stephen Fry  \", \"Kelly Macdonald  \", \"Hugh Bonneville  \", \"Jack Whitehall  \", \"Nicholas Pinnock  \", \"James Cosmo  \", \"Ricky Gervais  \", \"Johnny Depp  \", \"Ben Whishaw  \", \"Eddie Marsan  \", \"Jason Flemyng  \", \"Harriet Walter  \", \"Olivia Colman  \", \"Helena Bonham Carter  \", \"Rory Kinnear  \", \"Jim Broadbent  \", \"Samuel West  \", \"Terry Gilliam  \", \"Graham Chapman  \", \"Terry Jones  \", \"Eric Idle  \", \"Michael Palin  \", \"John Cleese  \", \"David Attenborough  \"], \"yaxis\": \"y5\"}, {\"marker\": {\"color\": \"#a678de\"}, \"name\": \"\", \"orientation\": \"h\", \"type\": \"bar\", \"x\": [4, 4, 4, 4, 5, 5, 5, 5, 5, 5, 5, 6, 6, 6, 7, 7, 7, 7, 9, 11, 11, 12, 15, 15], \"xaxis\": \"x6\", \"y\": [\"Diana Kaarina  \", \"Ryan Reynolds  \", \"Alison Pill  \", \"Michael Kopsa  \", \"Barrie Dunn  \", \"Lucy Decoutere  \", \"Sarah Dunsworth  \", \"Pat Roach  \", \"Kim Coates  \", \"Michael Eklund  \", \"Rebecca Shoichet  \", \"Brian Drummond  \", \"Cathy Weseluck  \", \"Patrick Roach  \", \"Colm Feore  \", \"Vincent Tong  \", \"Tabitha St. Germain  \", \"Tara Strong  \", \"Andrea Libman  \", \"John Dunsworth  \", \"Mike Smith  \", \"Ashleigh Ball  \", \"Robb Wells  \", \"John Paul Tremblay  \"], \"yaxis\": \"y6\"}, {\"marker\": {\"color\": \"#a678de\"}, \"name\": \"\", \"orientation\": \"h\", \"type\": \"bar\", \"x\": [4, 5, 5, 5, 5, 5, 5, 5, 5, 5, 5, 5, 5, 5, 5, 5, 6, 6, 6, 6, 7, 8, 8, 8], \"xaxis\": \"x8\", \"y\": [\"Joaqu\\u00edn Climent  \", \"Macarena G\\u00f3mez  \", \"Jos\\u00e9 Coronado  \", \"Alexandra Jim\\u00e9nez  \", \"Amaia Salamanca  \", \"Macarena Garc\\u00eda  \", \"Pedro Casablanc  \", \"Clara Lago  \", \"Dani Rovira  \", \"Javier Guti\\u00e9rrez  \", \"Roger Casamajor  \", \"Luis Callejo  \", \"Hugo Silva  \", \"Jos\\u00e9 Sacrist\\u00e1n  \", \"\\u00c1ngela Molina  \", \"Secun de la Rosa  \", \"Emilio Guti\\u00e9rrez Caba  \", \"Karra Elejalde  \", \"Bel\\u00e9n Cuesta  \", \"Blanca Su\\u00e1rez  \", \"Alain Hern\\u00e1ndez  \", \"Luis Tosar  \", \"Carmen Machi  \", \"Mario Casas  \"], \"yaxis\": \"y8\"}, {\"marker\": {\"color\": \"#a678de\"}, \"name\": \"\", \"orientation\": \"h\", \"type\": \"bar\", \"x\": [8, 8, 8, 9, 9, 9, 9, 10, 10, 10, 11, 11, 12, 12, 12, 13, 13, 13, 13, 14, 15, 16, 17, 23, 25], \"xaxis\": \"x10\", \"y\": [\"Daisuke Namikawa  \", \"Haruka Tomatsu  \", \"Romi Park  \", \"Kenjiro Tsuda  \", \"Yoko Hikasa  \", \"Junko Takeuchi  \", \"Rikiya Koyama  \", \"Kazuya Nakai  \", \"Satoshi Hino  \", \"Fumiko Orikasa  \", \"Miyuki Sawashiro  \", \"Takehito Koyasu  \", \"Jun Fukuyama  \", \"Maaya Sakamoto  \", \"Ai Kayano  \", \"Hiroshi Kamiya  \", \"Saori Hayami  \", \"Yuichi Nakamura  \", \"Junichi Suwabe  \", \"Kana Hanazawa  \", \"Tomokazu Sugita  \", \"Mamoru Miyano  \", \"Daisuke Ono  \", \"Takahiro Sakurai  \", \"Yuki Kaji  \"], \"yaxis\": \"y10\"}],\n",
              "                        {\"annotations\": [{\"font\": {\"size\": 16}, \"showarrow\": false, \"text\": \"United States\", \"x\": 0.08399999999999999, \"xanchor\": \"center\", \"xref\": \"paper\", \"y\": 1.0, \"yanchor\": \"bottom\", \"yref\": \"paper\"}, {\"font\": {\"size\": 16}, \"showarrow\": false, \"text\": \"India\", \"x\": 0.5, \"xanchor\": \"center\", \"xref\": \"paper\", \"y\": 1.0, \"yanchor\": \"bottom\", \"yref\": \"paper\"}, {\"font\": {\"size\": 16}, \"showarrow\": false, \"text\": \"United Kingdom\", \"x\": 0.9159999999999999, \"xanchor\": \"center\", \"xref\": \"paper\", \"y\": 1.0, \"yanchor\": \"bottom\", \"yref\": \"paper\"}, {\"font\": {\"size\": 16}, \"showarrow\": false, \"text\": \"Canada\", \"x\": 0.08399999999999999, \"xanchor\": \"center\", \"xref\": \"paper\", \"y\": 0.375, \"yanchor\": \"bottom\", \"yref\": \"paper\"}, {\"font\": {\"size\": 16}, \"showarrow\": false, \"text\": \"Spain\", \"x\": 0.5, \"xanchor\": \"center\", \"xref\": \"paper\", \"y\": 0.375, \"yanchor\": \"bottom\", \"yref\": \"paper\"}, {\"font\": {\"size\": 16}, \"showarrow\": false, \"text\": \"Japan\", \"x\": 0.9159999999999999, \"xanchor\": \"center\", \"xref\": \"paper\", \"y\": 0.375, \"yanchor\": \"bottom\", \"yref\": \"paper\"}], \"height\": 1200, \"showlegend\": false, \"template\": {\"data\": {\"bar\": [{\"error_x\": {\"color\": \"#2a3f5f\"}, \"error_y\": {\"color\": \"#2a3f5f\"}, \"marker\": {\"line\": {\"color\": \"#E5ECF6\", \"width\": 0.5}}, \"type\": \"bar\"}], \"barpolar\": [{\"marker\": {\"line\": {\"color\": \"#E5ECF6\", \"width\": 0.5}}, \"type\": \"barpolar\"}], \"carpet\": [{\"aaxis\": {\"endlinecolor\": \"#2a3f5f\", \"gridcolor\": \"white\", \"linecolor\": \"white\", \"minorgridcolor\": \"white\", \"startlinecolor\": \"#2a3f5f\"}, \"baxis\": {\"endlinecolor\": \"#2a3f5f\", \"gridcolor\": \"white\", \"linecolor\": \"white\", \"minorgridcolor\": \"white\", \"startlinecolor\": \"#2a3f5f\"}, \"type\": \"carpet\"}], \"choropleth\": [{\"colorbar\": {\"outlinewidth\": 0, \"ticks\": \"\"}, \"type\": \"choropleth\"}], \"contour\": [{\"colorbar\": {\"outlinewidth\": 0, \"ticks\": \"\"}, \"colorscale\": [[0.0, \"#0d0887\"], [0.1111111111111111, \"#46039f\"], [0.2222222222222222, \"#7201a8\"], [0.3333333333333333, \"#9c179e\"], [0.4444444444444444, \"#bd3786\"], [0.5555555555555556, \"#d8576b\"], [0.6666666666666666, \"#ed7953\"], [0.7777777777777778, \"#fb9f3a\"], [0.8888888888888888, \"#fdca26\"], [1.0, \"#f0f921\"]], \"type\": \"contour\"}], \"contourcarpet\": [{\"colorbar\": {\"outlinewidth\": 0, \"ticks\": \"\"}, \"type\": \"contourcarpet\"}], \"heatmap\": [{\"colorbar\": {\"outlinewidth\": 0, \"ticks\": \"\"}, \"colorscale\": [[0.0, \"#0d0887\"], [0.1111111111111111, \"#46039f\"], [0.2222222222222222, \"#7201a8\"], [0.3333333333333333, \"#9c179e\"], [0.4444444444444444, \"#bd3786\"], [0.5555555555555556, \"#d8576b\"], [0.6666666666666666, \"#ed7953\"], [0.7777777777777778, \"#fb9f3a\"], [0.8888888888888888, \"#fdca26\"], [1.0, \"#f0f921\"]], \"type\": \"heatmap\"}], \"heatmapgl\": [{\"colorbar\": {\"outlinewidth\": 0, \"ticks\": \"\"}, \"colorscale\": [[0.0, \"#0d0887\"], [0.1111111111111111, \"#46039f\"], [0.2222222222222222, \"#7201a8\"], [0.3333333333333333, \"#9c179e\"], [0.4444444444444444, \"#bd3786\"], [0.5555555555555556, \"#d8576b\"], [0.6666666666666666, \"#ed7953\"], [0.7777777777777778, \"#fb9f3a\"], [0.8888888888888888, \"#fdca26\"], [1.0, \"#f0f921\"]], \"type\": \"heatmapgl\"}], \"histogram\": [{\"marker\": {\"colorbar\": {\"outlinewidth\": 0, \"ticks\": \"\"}}, \"type\": \"histogram\"}], \"histogram2d\": [{\"colorbar\": {\"outlinewidth\": 0, \"ticks\": \"\"}, \"colorscale\": [[0.0, \"#0d0887\"], [0.1111111111111111, \"#46039f\"], [0.2222222222222222, \"#7201a8\"], [0.3333333333333333, \"#9c179e\"], [0.4444444444444444, \"#bd3786\"], [0.5555555555555556, \"#d8576b\"], [0.6666666666666666, \"#ed7953\"], [0.7777777777777778, \"#fb9f3a\"], [0.8888888888888888, \"#fdca26\"], [1.0, \"#f0f921\"]], \"type\": \"histogram2d\"}], \"histogram2dcontour\": [{\"colorbar\": {\"outlinewidth\": 0, \"ticks\": \"\"}, \"colorscale\": [[0.0, \"#0d0887\"], [0.1111111111111111, \"#46039f\"], [0.2222222222222222, \"#7201a8\"], [0.3333333333333333, \"#9c179e\"], [0.4444444444444444, \"#bd3786\"], [0.5555555555555556, \"#d8576b\"], [0.6666666666666666, \"#ed7953\"], [0.7777777777777778, \"#fb9f3a\"], [0.8888888888888888, \"#fdca26\"], [1.0, \"#f0f921\"]], \"type\": \"histogram2dcontour\"}], \"mesh3d\": [{\"colorbar\": {\"outlinewidth\": 0, \"ticks\": \"\"}, \"type\": \"mesh3d\"}], \"parcoords\": [{\"line\": {\"colorbar\": {\"outlinewidth\": 0, \"ticks\": \"\"}}, \"type\": \"parcoords\"}], \"pie\": [{\"automargin\": true, \"type\": \"pie\"}], \"scatter\": [{\"marker\": {\"colorbar\": {\"outlinewidth\": 0, \"ticks\": \"\"}}, \"type\": \"scatter\"}], \"scatter3d\": [{\"line\": {\"colorbar\": {\"outlinewidth\": 0, \"ticks\": \"\"}}, \"marker\": {\"colorbar\": {\"outlinewidth\": 0, \"ticks\": \"\"}}, \"type\": \"scatter3d\"}], \"scattercarpet\": [{\"marker\": {\"colorbar\": {\"outlinewidth\": 0, \"ticks\": \"\"}}, \"type\": \"scattercarpet\"}], \"scattergeo\": [{\"marker\": {\"colorbar\": {\"outlinewidth\": 0, \"ticks\": \"\"}}, \"type\": \"scattergeo\"}], \"scattergl\": [{\"marker\": {\"colorbar\": {\"outlinewidth\": 0, \"ticks\": \"\"}}, \"type\": \"scattergl\"}], \"scattermapbox\": [{\"marker\": {\"colorbar\": {\"outlinewidth\": 0, \"ticks\": \"\"}}, \"type\": \"scattermapbox\"}], \"scatterpolar\": [{\"marker\": {\"colorbar\": {\"outlinewidth\": 0, \"ticks\": \"\"}}, \"type\": \"scatterpolar\"}], \"scatterpolargl\": [{\"marker\": {\"colorbar\": {\"outlinewidth\": 0, \"ticks\": \"\"}}, \"type\": \"scatterpolargl\"}], \"scatterternary\": [{\"marker\": {\"colorbar\": {\"outlinewidth\": 0, \"ticks\": \"\"}}, \"type\": \"scatterternary\"}], \"surface\": [{\"colorbar\": {\"outlinewidth\": 0, \"ticks\": \"\"}, \"colorscale\": [[0.0, \"#0d0887\"], [0.1111111111111111, \"#46039f\"], [0.2222222222222222, \"#7201a8\"], [0.3333333333333333, \"#9c179e\"], [0.4444444444444444, \"#bd3786\"], [0.5555555555555556, \"#d8576b\"], [0.6666666666666666, \"#ed7953\"], [0.7777777777777778, \"#fb9f3a\"], [0.8888888888888888, \"#fdca26\"], [1.0, \"#f0f921\"]], \"type\": \"surface\"}], \"table\": [{\"cells\": {\"fill\": {\"color\": \"#EBF0F8\"}, \"line\": {\"color\": \"white\"}}, \"header\": {\"fill\": {\"color\": \"#C8D4E3\"}, \"line\": {\"color\": \"white\"}}, \"type\": \"table\"}]}, \"layout\": {\"annotationdefaults\": {\"arrowcolor\": \"#2a3f5f\", \"arrowhead\": 0, \"arrowwidth\": 1}, \"coloraxis\": {\"colorbar\": {\"outlinewidth\": 0, \"ticks\": \"\"}}, \"colorscale\": {\"diverging\": [[0, \"#8e0152\"], [0.1, \"#c51b7d\"], [0.2, \"#de77ae\"], [0.3, \"#f1b6da\"], [0.4, \"#fde0ef\"], [0.5, \"#f7f7f7\"], [0.6, \"#e6f5d0\"], [0.7, \"#b8e186\"], [0.8, \"#7fbc41\"], [0.9, \"#4d9221\"], [1, \"#276419\"]], \"sequential\": [[0.0, \"#0d0887\"], [0.1111111111111111, \"#46039f\"], [0.2222222222222222, \"#7201a8\"], [0.3333333333333333, \"#9c179e\"], [0.4444444444444444, \"#bd3786\"], [0.5555555555555556, \"#d8576b\"], [0.6666666666666666, \"#ed7953\"], [0.7777777777777778, \"#fb9f3a\"], [0.8888888888888888, \"#fdca26\"], [1.0, \"#f0f921\"]], \"sequentialminus\": [[0.0, \"#0d0887\"], [0.1111111111111111, \"#46039f\"], [0.2222222222222222, \"#7201a8\"], [0.3333333333333333, \"#9c179e\"], [0.4444444444444444, \"#bd3786\"], [0.5555555555555556, \"#d8576b\"], [0.6666666666666666, \"#ed7953\"], [0.7777777777777778, \"#fb9f3a\"], [0.8888888888888888, \"#fdca26\"], [1.0, \"#f0f921\"]]}, \"colorway\": [\"#636efa\", \"#EF553B\", \"#00cc96\", \"#ab63fa\", \"#FFA15A\", \"#19d3f3\", \"#FF6692\", \"#B6E880\", \"#FF97FF\", \"#FECB52\"], \"font\": {\"color\": \"#2a3f5f\"}, \"geo\": {\"bgcolor\": \"white\", \"lakecolor\": \"white\", \"landcolor\": \"#E5ECF6\", \"showlakes\": true, \"showland\": true, \"subunitcolor\": \"white\"}, \"hoverlabel\": {\"align\": \"left\"}, \"hovermode\": \"closest\", \"mapbox\": {\"style\": \"light\"}, \"paper_bgcolor\": \"white\", \"plot_bgcolor\": \"#E5ECF6\", \"polar\": {\"angularaxis\": {\"gridcolor\": \"white\", \"linecolor\": \"white\", \"ticks\": \"\"}, \"bgcolor\": \"#E5ECF6\", \"radialaxis\": {\"gridcolor\": \"white\", \"linecolor\": \"white\", \"ticks\": \"\"}}, \"scene\": {\"xaxis\": {\"backgroundcolor\": \"#E5ECF6\", \"gridcolor\": \"white\", \"gridwidth\": 2, \"linecolor\": \"white\", \"showbackground\": true, \"ticks\": \"\", \"zerolinecolor\": \"white\"}, \"yaxis\": {\"backgroundcolor\": \"#E5ECF6\", \"gridcolor\": \"white\", \"gridwidth\": 2, \"linecolor\": \"white\", \"showbackground\": true, \"ticks\": \"\", \"zerolinecolor\": \"white\"}, \"zaxis\": {\"backgroundcolor\": \"#E5ECF6\", \"gridcolor\": \"white\", \"gridwidth\": 2, \"linecolor\": \"white\", \"showbackground\": true, \"ticks\": \"\", \"zerolinecolor\": \"white\"}}, \"shapedefaults\": {\"line\": {\"color\": \"#2a3f5f\"}}, \"ternary\": {\"aaxis\": {\"gridcolor\": \"white\", \"linecolor\": \"white\", \"ticks\": \"\"}, \"baxis\": {\"gridcolor\": \"white\", \"linecolor\": \"white\", \"ticks\": \"\"}, \"bgcolor\": \"#E5ECF6\", \"caxis\": {\"gridcolor\": \"white\", \"linecolor\": \"white\", \"ticks\": \"\"}}, \"title\": {\"x\": 0.05}, \"xaxis\": {\"automargin\": true, \"gridcolor\": \"white\", \"linecolor\": \"white\", \"ticks\": \"\", \"title\": {\"standoff\": 15}, \"zerolinecolor\": \"white\", \"zerolinewidth\": 2}, \"yaxis\": {\"automargin\": true, \"gridcolor\": \"white\", \"linecolor\": \"white\", \"ticks\": \"\", \"title\": {\"standoff\": 15}, \"zerolinecolor\": \"white\", \"zerolinewidth\": 2}}}, \"xaxis\": {\"anchor\": \"y\", \"domain\": [0.0, 0.16799999999999998]}, \"xaxis10\": {\"anchor\": \"y10\", \"domain\": [0.832, 1.0]}, \"xaxis2\": {\"anchor\": \"y2\", \"domain\": [0.208, 0.376]}, \"xaxis3\": {\"anchor\": \"y3\", \"domain\": [0.416, 0.584]}, \"xaxis4\": {\"anchor\": \"y4\", \"domain\": [0.624, 0.792]}, \"xaxis5\": {\"anchor\": \"y5\", \"domain\": [0.832, 1.0]}, \"xaxis6\": {\"anchor\": \"y6\", \"domain\": [0.0, 0.16799999999999998]}, \"xaxis7\": {\"anchor\": \"y7\", \"domain\": [0.208, 0.376]}, \"xaxis8\": {\"anchor\": \"y8\", \"domain\": [0.416, 0.584]}, \"xaxis9\": {\"anchor\": \"y9\", \"domain\": [0.624, 0.792]}, \"yaxis\": {\"anchor\": \"x\", \"domain\": [0.625, 1.0]}, \"yaxis10\": {\"anchor\": \"x10\", \"domain\": [0.0, 0.375]}, \"yaxis2\": {\"anchor\": \"x2\", \"domain\": [0.625, 1.0]}, \"yaxis3\": {\"anchor\": \"x3\", \"domain\": [0.625, 1.0]}, \"yaxis4\": {\"anchor\": \"x4\", \"domain\": [0.625, 1.0]}, \"yaxis5\": {\"anchor\": \"x5\", \"domain\": [0.625, 1.0]}, \"yaxis6\": {\"anchor\": \"x6\", \"domain\": [0.0, 0.375]}, \"yaxis7\": {\"anchor\": \"x7\", \"domain\": [0.0, 0.375]}, \"yaxis8\": {\"anchor\": \"x8\", \"domain\": [0.0, 0.375]}, \"yaxis9\": {\"anchor\": \"x9\", \"domain\": [0.0, 0.375]}},\n",
              "                        {\"responsive\": true}\n",
              "                    ).then(function(){\n",
              "                            \n",
              "var gd = document.getElementById('2b057ec0-0b50-4d13-86e8-eca0ab2abe81');\n",
              "var x = new MutationObserver(function (mutations, observer) {{\n",
              "        var display = window.getComputedStyle(gd).display;\n",
              "        if (!display || display === 'none') {{\n",
              "            console.log([gd, 'removed!']);\n",
              "            Plotly.purge(gd);\n",
              "            observer.disconnect();\n",
              "        }}\n",
              "}});\n",
              "\n",
              "// Listen for the removal of the full notebook cells\n",
              "var notebookContainer = gd.closest('#notebook-container');\n",
              "if (notebookContainer) {{\n",
              "    x.observe(notebookContainer, {childList: true});\n",
              "}}\n",
              "\n",
              "// Listen for the clearing of the current output cell\n",
              "var outputEl = gd.closest('.output');\n",
              "if (outputEl) {{\n",
              "    x.observe(outputEl, {childList: true});\n",
              "}}\n",
              "\n",
              "                        })\n",
              "                };\n",
              "                \n",
              "            </script>\n",
              "        </div>\n",
              "</body>\n",
              "</html>"
            ]
          },
          "metadata": {
            "tags": []
          }
        }
      ]
    }
  ]
}